{
 "cells": [
  {
   "cell_type": "markdown",
   "metadata": {},
   "source": [
    "# Assignment 4"
   ]
  },
  {
   "cell_type": "markdown",
   "metadata": {},
   "source": [
    "1. Given two strings, s1 and s2, write a program to return a new string made of s1 and s2’s first, middle, and last characters all in capital letters."
   ]
  },
  {
   "cell_type": "code",
   "execution_count": 8,
   "metadata": {},
   "outputs": [
    {
     "data": {
      "text/plain": [
       "'AUTKLY'"
      ]
     },
     "execution_count": 8,
     "metadata": {},
     "output_type": "execute_result"
    }
   ],
   "source": [
    "s1 = \"Ault\"\n",
    "\n",
    "s2 = \"Kelly\"\n",
    "\n",
    "s1 = s1[:2] + s1[3:]\n",
    "s1 = s1.upper() \n",
    "\n",
    "s2 = s2[0:1] + s2[2:3] + s2[4:]\n",
    "s2 = s2.upper()\n",
    "\n",
    "s3 = s1 + s2\n",
    "s3"
   ]
  },
  {
   "cell_type": "markdown",
   "metadata": {},
   "source": [
    "2. Calculate the sum and the averages of the numbers in the following string while ignoring all other characters:\n",
    "\n",
    "    ```aa4a649##aq#2```"
   ]
  },
  {
   "cell_type": "code",
   "execution_count": 14,
   "metadata": {},
   "outputs": [],
   "source": [
    "s1 = \"aa4a649##aq#2\"\n",
    "four = s1[2:3] # choosing the number 4\n",
    "four = int(four) # turning it into integers\n",
    "\n",
    "sixfournine = s1[4:7]# choosing the number 469\n",
    "sixfournine = int(sixfournine) # turning it into integers\n",
    "\n",
    "two = s1[12:] # choosing the number 2\n",
    "two = int(two) # turning it into integers\n"
   ]
  },
  {
   "cell_type": "code",
   "execution_count": 15,
   "metadata": {},
   "outputs": [
    {
     "data": {
      "text/plain": [
       "655"
      ]
     },
     "execution_count": 15,
     "metadata": {},
     "output_type": "execute_result"
    }
   ],
   "source": [
    " sum = four + sixfournine + two # finding the sum of the numbers\n",
    "\n",
    "print(sum)\n",
    "\n"
   ]
  },
  {
   "cell_type": "code",
   "execution_count": 16,
   "metadata": {},
   "outputs": [
    {
     "data": {
      "text/plain": [
       "218.33333333333334"
      ]
     },
     "execution_count": 16,
     "metadata": {},
     "output_type": "execute_result"
    }
   ],
   "source": [
    "mean = (four + sixfournine + two) / 3 # finding the mean\n",
    "\n",
    "print(mean)"
   ]
  },
  {
   "cell_type": "markdown",
   "metadata": {},
   "source": [
    "3. Extract the last name Culberson from the following legislative action:\n",
    "\n",
    "    ```WORDS TAKEN DOWN - During the course of debate, exception was taken to certain words used and a demand was made to have words taken down. Mr. Culberson asked unanimous consent to withdraw the words. Without objection the words were withdrawn. The House resumed debate on S. 22 .```\n",
    "\n",
    "    **Hint:** use the method [split](https://www.w3schools.com/python/ref_string_split.asp)"
   ]
  },
  {
   "cell_type": "code",
   "execution_count": 12,
   "metadata": {},
   "outputs": [
    {
     "name": "stdout",
     "output_type": "stream",
     "text": [
      "Culberson\n"
     ]
    }
   ],
   "source": [
    "legislativeAction = \"WORDS TAKEN DOWN - During the course of debate, exception was taken to certain words used and a demand was made to have words taken down. Mr. Culberson asked unanimous consent to withdraw the words. Without objection the words were withdrawn. The House resumed debate on S. 22 .\"\n",
    "\n",
    "legislativeAction = legislativeAction.split(\" \") # splitting the spring by spaces\n",
    "\n",
    " \n",
    "Culberson = legislativeAction[27] # choosing the word Culberson\n",
    "\n",
    "print(Culberson)\n",
    "\n",
    "\n",
    "\n",
    "\n",
    "\n",
    "\n",
    "\n",
    "\n",
    "\n",
    "\n"
   ]
  },
  {
   "cell_type": "markdown",
   "metadata": {},
   "source": [
    "4. Extract the two integers from the following sentence and transform them intro ```int``` type\n",
    "\n",
    "    ```Passed Senate with amendments by Yea-Nay Vote. 73 - 21. Record Vote Number: 3 . (text: CR S430-557 )```"
   ]
  },
  {
   "cell_type": "code",
   "execution_count": 4,
   "metadata": {},
   "outputs": [
    {
     "data": {
      "text/plain": [
       "['Passed',\n",
       " 'Senate',\n",
       " 'with',\n",
       " 'amendments',\n",
       " 'by',\n",
       " 'Yea-Nay',\n",
       " 'Vote.',\n",
       " '73',\n",
       " '-',\n",
       " '21.',\n",
       " 'Record',\n",
       " 'Vote',\n",
       " 'Number:',\n",
       " '3',\n",
       " '.',\n",
       " '(text:',\n",
       " 'CR',\n",
       " 'S430-557',\n",
       " ')']"
      ]
     },
     "execution_count": 4,
     "metadata": {},
     "output_type": "execute_result"
    }
   ],
   "source": [
    "sentence = \"Passed Senate with amendments by Yea-Nay Vote. 73 - 21. Record Vote Number: 3 . (text: CR S430-557 )\"\n",
    "\n",
    "sentence = sentence.split(\" \") # splitting the sentence by space\n",
    "sentence\n",
    "\n",
    "\n",
    "\n",
    "\n"
   ]
  },
  {
   "cell_type": "code",
   "execution_count": 11,
   "metadata": {},
   "outputs": [
    {
     "data": {
      "text/plain": [
       "['73']"
      ]
     },
     "execution_count": 11,
     "metadata": {},
     "output_type": "execute_result"
    }
   ],
   "source": [
    "seventyThree = sentence[7] # extracting the number 73 into string\n",
    "seventyThree = int(seventyThree) # turning the varibale into a int\n",
    "type(seventyThree)\n"
   ]
  },
  {
   "cell_type": "code",
   "execution_count": null,
   "metadata": {},
   "outputs": [],
   "source": [
    "\n",
    "twentyOne = sentence[9] # extracting the number 21\n",
    "twentyOne = int(twentyOne) # turning the varibale into a int\n"
   ]
  }
 ],
 "metadata": {
  "kernelspec": {
   "display_name": "conda_amazonei_mxnet_p36",
   "language": "python",
   "name": "conda_amazonei_mxnet_p36"
  },
  "language_info": {
   "codemirror_mode": {
    "name": "ipython",
    "version": 3
   },
   "file_extension": ".py",
   "mimetype": "text/x-python",
   "name": "python",
   "nbconvert_exporter": "python",
   "pygments_lexer": "ipython3",
   "version": "3.6.13"
  },
  "vscode": {
   "interpreter": {
    "hash": "11838f79d2aaadbfa3a2adfaf35bacdebdb4e8d9b63957ddf298964812544a76"
   }
  }
 },
 "nbformat": 4,
 "nbformat_minor": 4
}
